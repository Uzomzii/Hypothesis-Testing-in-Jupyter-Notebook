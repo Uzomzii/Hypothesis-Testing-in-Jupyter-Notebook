{
 "cells": [
  {
   "cell_type": "code",
   "execution_count": 2,
   "id": "5f76058a",
   "metadata": {},
   "outputs": [],
   "source": [
    "#import proportions_ztest function\n",
    "from statsmodels.stats.proportion import proportions_ztest"
   ]
  },
  {
   "cell_type": "markdown",
   "id": "cf26e868",
   "metadata": {},
   "source": [
    "`proportions_ztest(count,nobs,value=None,alternative='two-sided')`\n",
    "1. count: The number of success\n",
    "2. nobs: The number of trials\n",
    "3. value: The hypothesized population proportion\n",
    "4. alternative: The alternative hypothesis. ['two-sided', 'smaller', 'larger']\n",
    "\n",
    "This functions return z test-statistic and a corresponding p-value"
   ]
  },
  {
   "cell_type": "markdown",
   "id": "c2c0853c",
   "metadata": {},
   "source": [
    "### Question 1\n",
    "count = 44 <br>\n",
    "nobs = 83 <br>\n",
    "value = 43% <br>\n",
    "alternative = 'two-sided' <br>\n",
    "alpha = 0.05"
   ]
  },
  {
   "cell_type": "code",
   "execution_count": 3,
   "id": "d558d6c8",
   "metadata": {},
   "outputs": [
    {
     "data": {
      "text/plain": [
       "(1.8276011733830366, 0.06760942957382698)"
      ]
     },
     "execution_count": 3,
     "metadata": {},
     "output_type": "execute_result"
    }
   ],
   "source": [
    "#perform z-test\n",
    "proportions_ztest(count=44, nobs=83, value=0.43)"
   ]
  },
  {
   "cell_type": "code",
   "execution_count": null,
   "id": "80893de3",
   "metadata": {},
   "outputs": [],
   "source": []
  }
 ],
 "metadata": {
  "kernelspec": {
   "display_name": "Python 3 (ipykernel)",
   "language": "python",
   "name": "python3"
  },
  "language_info": {
   "codemirror_mode": {
    "name": "ipython",
    "version": 3
   },
   "file_extension": ".py",
   "mimetype": "text/x-python",
   "name": "python",
   "nbconvert_exporter": "python",
   "pygments_lexer": "ipython3",
   "version": "3.11.5"
  }
 },
 "nbformat": 4,
 "nbformat_minor": 5
}
